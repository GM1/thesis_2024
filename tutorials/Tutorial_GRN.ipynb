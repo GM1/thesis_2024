{
 "cells": [
  {
   "cell_type": "markdown",
   "metadata": {
    "application/vnd.databricks.v1+cell": {
     "cellMetadata": {},
     "inputWidgets": {},
     "nuid": "5643411c-f8fd-4829-a058-e62f4ba37246",
     "showTitle": false,
     "title": ""
    }
   },
   "source": [
    "# GRN Inference on Pre-trained Model\n",
    "Here we use the pre-trained blood model as an example for GRN inference, particularly regarding gene program extraction and network visualization. We also present the cell-type specific activations within these gene programs on the Immune Human dataset, as a soft validation for the zero-shot performance. \n",
    "\n",
    "Note that GRN inference can be performed on pre-trained and finetuned models as showcased in our manuscript.\n",
    "\n",
    "Users may perform scGPT's gene-embedding-based GRN inference in the following steps:\n",
    "\n",
    "     1. Load optimized scGPT model (pre-trained or fine-tuned) and data\n",
    "     \n",
    "     2. Retrieve scGPT's gene embeddings\n",
    "     \n",
    "     3. Extract gene programs from scGPT's gene embedding network\n",
    "     \n",
    "     4. Visualize gene program activations on dataset of interest\n",
    "     \n",
    "     5. Visualize the interconnectivity of genes within select gene programs\n",
    "     "
   ]
  },
  {
   "cell_type": "code",
   "execution_count": 0,
   "metadata": {
    "application/vnd.databricks.v1+cell": {
     "cellMetadata": {},
     "inputWidgets": {},
     "nuid": "b40759df-c13b-4a2f-a7bf-b4301a4d6fad",
     "showTitle": false,
     "title": ""
    }
   },
   "outputs": [],
   "source": [
    "import copy\n",
    "import json\n",
    "import os\n",
    "from pathlib import Path\n",
    "import sys\n",
    "import warnings\n",
    "\n",
    "import torch\n",
    "from anndata import AnnData\n",
    "import scanpy as sc\n",
    "import numpy as np\n",
    "import matplotlib.pyplot as plt\n",
    "import seaborn as sns\n",
    "import networkx as nx\n",
    "import pandas as pd\n",
    "import tqdm\n",
    "import gseapy as gp\n",
    "\n",
    "from torchtext.vocab import Vocab\n",
    "from torchtext._torchtext import (\n",
    "    Vocab as VocabPybind,\n",
    ")\n",
    "\n",
    "sys.path.insert(0, \"../\")\n",
    "import scgpt as scg\n",
    "from scgpt.tasks import GeneEmbedding\n",
    "from scgpt.tokenizer.gene_tokenizer import GeneVocab\n",
    "from scgpt.model import TransformerModel\n",
    "from scgpt.preprocess import Preprocessor\n",
    "from scgpt.utils import set_seed \n",
    "\n",
    "os.environ[\"KMP_WARNINGS\"] = \"off\"\n",
    "warnings.filterwarnings('ignore')"
   ]
  },
  {
   "cell_type": "code",
   "execution_count": 0,
   "metadata": {
    "application/vnd.databricks.v1+cell": {
     "cellMetadata": {},
     "inputWidgets": {},
     "nuid": "207b9053-f60b-44a1-80ea-a51ea35e6533",
     "showTitle": false,
     "title": ""
    }
   },
   "outputs": [],
   "source": [
    "set_seed(42)\n",
    "pad_token = \"<pad>\"\n",
    "special_tokens = [pad_token, \"<cls>\", \"<eoc>\"]\n",
    "n_hvg = 1200\n",
    "n_bins = 51\n",
    "mask_value = -1\n",
    "pad_value = -2\n",
    "n_input_bins = n_bins"
   ]
  },
  {
   "cell_type": "markdown",
   "metadata": {
    "application/vnd.databricks.v1+cell": {
     "cellMetadata": {},
     "inputWidgets": {},
     "nuid": "a200c56b-a222-4ddf-a7ee-a95f61dcc8dc",
     "showTitle": false,
     "title": ""
    }
   },
   "source": [
    "## Step 1: Load pre-trained model and dataset"
   ]
  },
  {
   "cell_type": "markdown",
   "metadata": {
    "application/vnd.databricks.v1+cell": {
     "cellMetadata": {},
     "inputWidgets": {},
     "nuid": "dc0b3b38-0a88-4974-8cb3-8b2d67b7e9bb",
     "showTitle": false,
     "title": ""
    }
   },
   "source": [
    "### 1.1  Load pre-trained model\n",
    "The blood pre-trained model can be downloaded via this [link](https://drive.google.com/drive/folders/1kkug5C7NjvXIwQGGaGoqXTk_Lb_pDrBU)."
   ]
  },
  {
   "cell_type": "code",
   "execution_count": 0,
   "metadata": {
    "application/vnd.databricks.v1+cell": {
     "cellMetadata": {},
     "inputWidgets": {},
     "nuid": "303d76e1-e778-4d86-9c43-f4b34021e2b7",
     "showTitle": false,
     "title": ""
    }
   },
   "outputs": [],
   "source": [
    "# Specify model path; here we load the pre-trained scGPT blood model\n",
    "model_dir = Path(\"../save/scGPT_bc\")\n",
    "model_config_file = model_dir / \"args.json\"\n",
    "model_file = model_dir / \"best_model.pt\"\n",
    "vocab_file = model_dir / \"vocab.json\"\n",
    "\n",
    "vocab = GeneVocab.from_file(vocab_file)\n",
    "for s in special_tokens:\n",
    "    if s not in vocab:\n",
    "        vocab.append_token(s)\n",
    "\n",
    "# Retrieve model parameters from config files\n",
    "with open(model_config_file, \"r\") as f:\n",
    "    model_configs = json.load(f)\n",
    "print(\n",
    "    f\"Resume model from {model_file}, the model args will override the \"\n",
    "    f\"config {model_config_file}.\"\n",
    ")\n",
    "embsize = model_configs[\"embsize\"]\n",
    "nhead = model_configs[\"nheads\"]\n",
    "d_hid = model_configs[\"d_hid\"]\n",
    "nlayers = model_configs[\"nlayers\"]\n",
    "n_layers_cls = model_configs[\"n_layers_cls\"]\n",
    "\n",
    "gene2idx = vocab.get_stoi()"
   ]
  },
  {
   "cell_type": "code",
   "execution_count": 0,
   "metadata": {
    "application/vnd.databricks.v1+cell": {
     "cellMetadata": {},
     "inputWidgets": {},
     "nuid": "8a8618ef-0207-4595-82d3-783f2ba2bf4b",
     "showTitle": false,
     "title": ""
    }
   },
   "outputs": [],
   "source": [
    "device = torch.device(\"cuda\" if torch.cuda.is_available() else \"cpu\")\n",
    "\n",
    "ntokens = len(vocab)  # size of vocabulary\n",
    "model = TransformerModel(\n",
    "    ntokens,\n",
    "    embsize,\n",
    "    nhead,\n",
    "    d_hid,\n",
    "    nlayers,\n",
    "    vocab=vocab,\n",
    "    pad_value=pad_value,\n",
    "    n_input_bins=n_input_bins,\n",
    ")\n",
    "\n",
    "try:\n",
    "    model.load_state_dict(torch.load(model_file))\n",
    "    print(f\"Loading all model params from {model_file}\")\n",
    "except:\n",
    "    # only load params that are in the model and match the size\n",
    "    model_dict = model.state_dict()\n",
    "    pretrained_dict = torch.load(model_file)\n",
    "    pretrained_dict = {\n",
    "        k: v\n",
    "        for k, v in pretrained_dict.items()\n",
    "        if k in model_dict and v.shape == model_dict[k].shape\n",
    "    }\n",
    "    for k, v in pretrained_dict.items():\n",
    "        print(f\"Loading params {k} with shape {v.shape}\")\n",
    "        model_dict.update(pretrained_dict)\n",
    "        model.load_state_dict(model_dict)\n",
    "\n",
    "model.to(device)"
   ]
  },
  {
   "cell_type": "markdown",
   "metadata": {
    "application/vnd.databricks.v1+cell": {
     "cellMetadata": {},
     "inputWidgets": {},
     "nuid": "20e0494f-1ca9-4d5d-8836-57f57bb3cd58",
     "showTitle": false,
     "title": ""
    }
   },
   "source": [
    "### 1.2  Load dataset of interest\n",
    "The Immune Human dataset can be downloaded via this [link](https://figshare.com/ndownloader/files/25717328)."
   ]
  },
  {
   "cell_type": "code",
   "execution_count": 0,
   "metadata": {
    "application/vnd.databricks.v1+cell": {
     "cellMetadata": {},
     "inputWidgets": {},
     "nuid": "a46526c7-ebd1-4213-8fb6-b020a563a943",
     "showTitle": false,
     "title": ""
    }
   },
   "outputs": [],
   "source": [
    "# Specify data path; here we load the Immune Human dataset\n",
    "data_dir = Path(\"../data\")\n",
    "adata = sc.read(\n",
    "    str(data_dir / \"Immune_ALL_human.h5ad\"), cache=True\n",
    ")  # 33506 × 12303\n",
    "ori_batch_col = \"batch\"\n",
    "adata.obs[\"celltype\"] = adata.obs[\"final_annotation\"].astype(str)\n",
    "data_is_raw = False"
   ]
  },
  {
   "cell_type": "code",
   "execution_count": 0,
   "metadata": {
    "application/vnd.databricks.v1+cell": {
     "cellMetadata": {},
     "inputWidgets": {},
     "nuid": "c9d439e3-035a-4b14-bec0-673c00e3a3d7",
     "showTitle": false,
     "title": ""
    }
   },
   "outputs": [],
   "source": [
    "# Preprocess the data following the scGPT data pre-processing pipeline\n",
    "preprocessor = Preprocessor(\n",
    "    use_key=\"X\",  # the key in adata.layers to use as raw data\n",
    "    filter_gene_by_counts=3,  # step 1\n",
    "    filter_cell_by_counts=False,  # step 2\n",
    "    normalize_total=1e4,  # 3. whether to normalize the raw data and to what sum\n",
    "    result_normed_key=\"X_normed\",  # the key in adata.layers to store the normalized data\n",
    "    log1p=data_is_raw,  # 4. whether to log1p the normalized data\n",
    "    result_log1p_key=\"X_log1p\",\n",
    "    subset_hvg=n_hvg,  # 5. whether to subset the raw data to highly variable genes\n",
    "    hvg_flavor=\"seurat_v3\" if data_is_raw else \"cell_ranger\",\n",
    "    binning=n_bins,  # 6. whether to bin the raw data and to what number of bins\n",
    "    result_binned_key=\"X_binned\",  # the key in adata.layers to store the binned data\n",
    ")\n",
    "preprocessor(adata, batch_key=\"batch\")"
   ]
  },
  {
   "cell_type": "markdown",
   "metadata": {
    "application/vnd.databricks.v1+cell": {
     "cellMetadata": {},
     "inputWidgets": {},
     "nuid": "4761e038-a7ab-48ae-babd-49b00f2f085e",
     "showTitle": false,
     "title": ""
    }
   },
   "source": [
    "## Step 2: Retrieve scGPT's gene embeddings\n",
    "\n",
    "Note that technically scGPT's gene embeddings are data independent. Overall, the pre-trained foundation model contains 30+K genes. Here for simplicity, we focus on a subset of HVGs specific to the data at hand."
   ]
  },
  {
   "cell_type": "code",
   "execution_count": 0,
   "metadata": {
    "application/vnd.databricks.v1+cell": {
     "cellMetadata": {},
     "inputWidgets": {},
     "nuid": "2948c123-342c-4fdf-9594-d9edd1cbe215",
     "showTitle": false,
     "title": ""
    }
   },
   "outputs": [],
   "source": [
    "# Retrieve the data-independent gene embeddings from scGPT\n",
    "gene_ids = np.array([id for id in gene2idx.values()])\n",
    "gene_embeddings = model.encoder(torch.tensor(gene_ids, dtype=torch.long).to(device))\n",
    "gene_embeddings = gene_embeddings.detach().cpu().numpy()"
   ]
  },
  {
   "cell_type": "code",
   "execution_count": 0,
   "metadata": {
    "application/vnd.databricks.v1+cell": {
     "cellMetadata": {},
     "inputWidgets": {},
     "nuid": "f03bec8b-11fd-46c4-a790-76570713cbb6",
     "showTitle": false,
     "title": ""
    }
   },
   "outputs": [],
   "source": [
    "# Filter on the intersection between the Immune Human HVGs found in step 1.2 and scGPT's 30+K foundation model vocab\n",
    "gene_embeddings = {gene: gene_embeddings[i] for i, gene in enumerate(gene2idx.keys()) if gene in adata.var.index.tolist()}\n",
    "print('Retrieved gene embeddings for {} genes.'.format(len(gene_embeddings)))"
   ]
  },
  {
   "cell_type": "code",
   "execution_count": 0,
   "metadata": {
    "application/vnd.databricks.v1+cell": {
     "cellMetadata": {},
     "inputWidgets": {},
     "nuid": "faba62e6-0b7d-4536-bfd4-b1dd50672057",
     "showTitle": false,
     "title": ""
    }
   },
   "outputs": [],
   "source": [
    "# Construct gene embedding network\n",
    "embed = GeneEmbedding(gene_embeddings)"
   ]
  },
  {
   "cell_type": "markdown",
   "metadata": {
    "application/vnd.databricks.v1+cell": {
     "cellMetadata": {},
     "inputWidgets": {},
     "nuid": "ed39468b-4d3f-4067-932a-30b80492dd5a",
     "showTitle": false,
     "title": ""
    }
   },
   "source": [
    "## Step 3: Extract gene programs from gene embedding network"
   ]
  },
  {
   "cell_type": "markdown",
   "metadata": {
    "application/vnd.databricks.v1+cell": {
     "cellMetadata": {},
     "inputWidgets": {},
     "nuid": "ac17aa39-ca81-415a-aa7a-1e5fdac812f9",
     "showTitle": false,
     "title": ""
    }
   },
   "source": [
    "### 3.1  Perform Louvain clustering on the gene embedding network"
   ]
  },
  {
   "cell_type": "code",
   "execution_count": 0,
   "metadata": {
    "application/vnd.databricks.v1+cell": {
     "cellMetadata": {},
     "inputWidgets": {},
     "nuid": "649367af-11e3-47f4-9edc-1f1d5c76bf3e",
     "showTitle": false,
     "title": ""
    }
   },
   "outputs": [],
   "source": [
    "# Perform Louvain clustering with desired resolution; here we specify resolution=40\n",
    "gdata = embed.get_adata(resolution=40)\n",
    "# Retrieve the gene clusters\n",
    "metagenes = embed.get_metagenes(gdata)"
   ]
  },
  {
   "cell_type": "markdown",
   "metadata": {
    "application/vnd.databricks.v1+cell": {
     "cellMetadata": {},
     "inputWidgets": {},
     "nuid": "3802e038-31a3-4bfe-b6cc-65cb3eeff490",
     "showTitle": false,
     "title": ""
    }
   },
   "source": [
    "### 3.2  Filter on clusters with 5 or more genes"
   ]
  },
  {
   "cell_type": "code",
   "execution_count": 0,
   "metadata": {
    "application/vnd.databricks.v1+cell": {
     "cellMetadata": {},
     "inputWidgets": {},
     "nuid": "ea0cfe21-0dc3-4acf-91e9-91f8d4cb5725",
     "showTitle": false,
     "title": ""
    }
   },
   "outputs": [],
   "source": [
    "# Obtain the set of gene programs from clusters with #genes >= 5\n",
    "mgs = dict()\n",
    "for mg, genes in metagenes.items():\n",
    "    if len(genes) > 4:\n",
    "        mgs[mg] = genes"
   ]
  },
  {
   "cell_type": "code",
   "execution_count": 0,
   "metadata": {
    "application/vnd.databricks.v1+cell": {
     "cellMetadata": {},
     "inputWidgets": {},
     "nuid": "cbcabe5c-1437-424b-9386-50e7980bfff2",
     "showTitle": false,
     "title": ""
    }
   },
   "outputs": [],
   "source": [
    "# Here are the gene programs identified\n",
    "mgs"
   ]
  },
  {
   "cell_type": "markdown",
   "metadata": {
    "application/vnd.databricks.v1+cell": {
     "cellMetadata": {},
     "inputWidgets": {},
     "nuid": "696ac9f5-a9c2-4f64-8b2a-f99f1368a08a",
     "showTitle": false,
     "title": ""
    }
   },
   "source": [
    "## Step 4: Visualize gene program activation on the Immune Human dataset"
   ]
  },
  {
   "cell_type": "code",
   "execution_count": 0,
   "metadata": {
    "application/vnd.databricks.v1+cell": {
     "cellMetadata": {},
     "inputWidgets": {},
     "nuid": "cd33c298-16a6-4667-91ca-664d0d046191",
     "showTitle": false,
     "title": ""
    }
   },
   "outputs": [],
   "source": [
    "sns.set(font_scale=0.35)\n",
    "embed.score_metagenes(adata, metagenes)\n",
    "embed.plot_metagenes_scores(adata, mgs, \"celltype\")"
   ]
  },
  {
   "cell_type": "markdown",
   "metadata": {
    "application/vnd.databricks.v1+cell": {
     "cellMetadata": {},
     "inputWidgets": {},
     "nuid": "764f581c-9897-4140-895d-f12d27036847",
     "showTitle": false,
     "title": ""
    }
   },
   "source": [
    "## Step 5: Visualize network connectivity within desired gene program\n",
    "We can further visualize the connectivity between genes within any gene program of interest from Step 4. Here is an example of gene program 3 consisting of the CD3 cluster, CD8 cluster and other genes. In the visualization, we see strong connections highlighted in blue (by cosine similarity) between CD3D, E, and G, as well as CD8A and B."
   ]
  },
  {
   "cell_type": "code",
   "execution_count": 0,
   "metadata": {
    "application/vnd.databricks.v1+cell": {
     "cellMetadata": {},
     "inputWidgets": {},
     "nuid": "0fa4352f-3526-40d1-bed4-99978fa6dca0",
     "showTitle": false,
     "title": ""
    }
   },
   "outputs": [],
   "source": [
    "# Retrieve gene program 3 which contains the CD3 gene set\n",
    "CD_genes = mgs['3']\n",
    "print(CD_genes)\n",
    "# Compute cosine similarities among genes in this gene program\n",
    "df_CD = pd.DataFrame(columns=['Gene', 'Similarity', 'Gene1'])\n",
    "for i in tqdm.tqdm(CD_genes):\n",
    "    df = embed.compute_similarities(i, CD_genes)\n",
    "    df['Gene1'] = i\n",
    "    df_CD = df_CD.append(df)\n",
    "df_CD_sub = df_CD[df_CD['Similarity']<0.99].sort_values(by='Gene') # Filter out edges from each gene to itself"
   ]
  },
  {
   "cell_type": "code",
   "execution_count": 0,
   "metadata": {
    "application/vnd.databricks.v1+cell": {
     "cellMetadata": {},
     "inputWidgets": {},
     "nuid": "2ffe707f-0e2a-4d2b-b2b6-21d9ad8e8b6b",
     "showTitle": false,
     "title": ""
    }
   },
   "outputs": [],
   "source": [
    "# Creates a graph from the cosine similarity network\n",
    "input_node_weights = [(row['Gene'], row['Gene1'], round(row['Similarity'], 2)) for i, row in df_CD_sub.iterrows()]\n",
    "G = nx.Graph()\n",
    "G.add_weighted_edges_from(input_node_weights)"
   ]
  },
  {
   "cell_type": "code",
   "execution_count": 0,
   "metadata": {
    "application/vnd.databricks.v1+cell": {
     "cellMetadata": {},
     "inputWidgets": {},
     "nuid": "7789a6cd-727d-4126-a2f9-15816c3872a1",
     "showTitle": false,
     "title": ""
    }
   },
   "outputs": [],
   "source": [
    "# Plot the cosine similarity network; strong edges (> select threshold) are highlighted\n",
    "thresh = 0.4\n",
    "plt.figure(figsize=(20, 20))\n",
    "widths = nx.get_edge_attributes(G, 'weight')\n",
    "\n",
    "elarge = [(u, v) for (u, v, d) in G.edges(data=True) if d[\"weight\"] > thresh]\n",
    "esmall = [(u, v) for (u, v, d) in G.edges(data=True) if d[\"weight\"] <= thresh]\n",
    "\n",
    "pos = nx.spring_layout(G, k=0.4, iterations=15, seed=3)\n",
    "\n",
    "width_large = {}\n",
    "width_small = {}\n",
    "for i, v in enumerate(list(widths.values())):\n",
    "    if v > thresh:\n",
    "        width_large[list(widths.keys())[i]] = v*10\n",
    "    else:\n",
    "        width_small[list(widths.keys())[i]] = max(v, 0)*10\n",
    "\n",
    "nx.draw_networkx_edges(G, pos,\n",
    "                       edgelist = width_small.keys(),\n",
    "                       width=list(width_small.values()),\n",
    "                       edge_color='lightblue',\n",
    "                       alpha=0.8)\n",
    "nx.draw_networkx_edges(G, pos, \n",
    "                       edgelist = width_large.keys(), \n",
    "                       width = list(width_large.values()), \n",
    "                       alpha = 0.5, \n",
    "                       edge_color = \"blue\", \n",
    "                      )\n",
    "# node labels\n",
    "nx.draw_networkx_labels(G, pos, font_size=25, font_family=\"sans-serif\")\n",
    "# edge weight labels\n",
    "d = nx.get_edge_attributes(G, \"weight\")\n",
    "edge_labels = {k: d[k] for k in elarge}\n",
    "nx.draw_networkx_edge_labels(G, pos, edge_labels, font_size=15)\n",
    "\n",
    "ax = plt.gca()\n",
    "ax.margins(0.08)\n",
    "plt.axis(\"off\")\n",
    "plt.show()"
   ]
  },
  {
   "cell_type": "markdown",
   "metadata": {
    "application/vnd.databricks.v1+cell": {
     "cellMetadata": {},
     "inputWidgets": {},
     "nuid": "a30f4aa6-e9f0-4902-ac1b-85458b8449d9",
     "showTitle": false,
     "title": ""
    }
   },
   "source": [
    "## Step 6: Reactome pathway analysis\n",
    "Again with gene program 3 as an example, users may perform pathway enrichment analysis to identify related pathways. In the paper, we used the Bonferroni correction to adjust the p-value threshold by accounting for the total number of tests performed."
   ]
  },
  {
   "cell_type": "code",
   "execution_count": 0,
   "metadata": {
    "application/vnd.databricks.v1+cell": {
     "cellMetadata": {},
     "inputWidgets": {},
     "nuid": "70869ab0-84b6-4182-97a1-30e6157af89b",
     "showTitle": false,
     "title": ""
    }
   },
   "outputs": [],
   "source": [
    "# Meta info about the number of terms (tests) in the databases\n",
    "df_database = pd.DataFrame(\n",
    "data = [['GO_Biological_Process_2021', 6036],\n",
    "['GO_Molecular_Function_2021', 1274],\n",
    "['Reactome_2022', 1818]],\n",
    "columns = ['dataset', 'term'])"
   ]
  },
  {
   "cell_type": "code",
   "execution_count": 0,
   "metadata": {
    "application/vnd.databricks.v1+cell": {
     "cellMetadata": {},
     "inputWidgets": {},
     "nuid": "e484d979-85be-4bc2-a932-92ba319044ec",
     "showTitle": false,
     "title": ""
    }
   },
   "outputs": [],
   "source": [
    "# Select desired database for query; here use Reactome as an example\n",
    "databases = ['Reactome_2022']\n",
    "m = df_database[df_database['dataset'].isin(databases)]['term'].sum()\n",
    "# p-value correction for total number of tests done\n",
    "p_thresh = 0.05/m"
   ]
  },
  {
   "cell_type": "code",
   "execution_count": 0,
   "metadata": {
    "application/vnd.databricks.v1+cell": {
     "cellMetadata": {},
     "inputWidgets": {},
     "nuid": "80327410-c15d-4b7d-bc5b-7af336cd7311",
     "showTitle": false,
     "title": ""
    }
   },
   "outputs": [],
   "source": [
    "# Perform pathway enrichment analysis using the gseapy package in the Reactome database\n",
    "df = pd.DataFrame()\n",
    "enr_Reactome = gp.enrichr(gene_list=CD_genes,\n",
    "                          gene_sets=databases,\n",
    "                          organism='Human', \n",
    "                          outdir='test/enr_Reactome',\n",
    "                          cutoff=0.5)\n",
    "out = enr_Reactome.results\n",
    "out = out[out['P-value'] < p_thresh]\n",
    "df = df.append(out, ignore_index=True)\n",
    "df"
   ]
  }
 ],
 "metadata": {
  "application/vnd.databricks.v1+notebook": {
   "dashboards": [],
   "environmentMetadata": null,
   "language": "python",
   "notebookMetadata": {},
   "notebookName": "Tutorial_GRN",
   "widgets": {}
  },
  "kernelspec": {
   "display_name": "Python 3 (ipykernel)",
   "language": "python",
   "name": "python3"
  },
  "language_info": {
   "codemirror_mode": {
    "name": "ipython",
    "version": 3
   },
   "file_extension": ".py",
   "mimetype": "text/x-python",
   "name": "python",
   "nbconvert_exporter": "python",
   "pygments_lexer": "ipython3",
   "version": "3.7.3"
  }
 },
 "nbformat": 4,
 "nbformat_minor": 0
}
