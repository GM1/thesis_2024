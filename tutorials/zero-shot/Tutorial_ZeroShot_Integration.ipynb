{
 "cells": [
  {
   "cell_type": "markdown",
   "metadata": {
    "application/vnd.databricks.v1+cell": {
     "cellMetadata": {},
     "inputWidgets": {},
     "nuid": "a2197b71-696f-4ae0-9df3-523fe284dac0",
     "showTitle": false,
     "title": ""
    }
   },
   "source": [
    "# Zero-shot integration tutorial with scGPT"
   ]
  },
  {
   "cell_type": "markdown",
   "metadata": {
    "application/vnd.databricks.v1+cell": {
     "cellMetadata": {},
     "inputWidgets": {},
     "nuid": "f76d4600-0943-4ab6-b4a6-6ba0c85baf6c",
     "showTitle": false,
     "title": ""
    }
   },
   "source": [
    "## Introduction\n",
    "\n",
    "This tutorial covers the zero-shot integration with scGPT. This particular workflow works for scRNA-seq datasets without fine-tuning (or any extensive training) of scGPT.\n"
   ]
  },
  {
   "cell_type": "markdown",
   "metadata": {
    "application/vnd.databricks.v1+cell": {
     "cellMetadata": {},
     "inputWidgets": {},
     "nuid": "2ea66cd6-8420-4c2c-8afe-611cc2b0d6d2",
     "showTitle": false,
     "title": ""
    }
   },
   "source": [
    "We will use the Lung-Kim dataset as an example. The dataset comprises 14 primary human lung adenocarcinoma samples and 32,493 cells. This dataset is publicly accessible via the [Curated Cancer Cell Atlas](https://www.weizmann.ac.il/sites/3CA/lung), which can be downloaded from [here](https://drive.google.com/file/d/1z_0vWYMhRuRiD1EyhuFtY9ReIR0msWaL/view?usp=sharing). You may place the dataset under `data` directory at the outer level.\n",
    "\n",
    "For scGPT model weight, we use the `scGPT_human` model to provide embeddings out of the box. You may download it from [here](https://drive.google.com/drive/folders/1oWh_-ZRdhtoGQ2Fw24HP41FgLoomVo-y).\n",
    "\n",
    "\n",
    "The zero-shot integration workflow is as follows:\n",
    "\n",
    " 1. [Load and pre-process the dataset](#prepare-the-datasets)\n",
    "    \n",
    " 2. [Generate scGPT embeddings for each cell](#generate-the-cell-embeddings)"
   ]
  },
  {
   "cell_type": "markdown",
   "metadata": {
    "application/vnd.databricks.v1+cell": {
     "cellMetadata": {},
     "inputWidgets": {},
     "nuid": "cdf076bb-9881-4247-b1c9-111e33dba39c",
     "showTitle": false,
     "title": ""
    }
   },
   "source": [
    "At the [appendix](#appendix-zero-shot-integration-on-covid-19-dataset-and-ms-dataset) of this tutorial notebook, we will also showcase the zero-shot integration performance on COVID-19 dataset and Multiple Sclerosis (M.S.) dataset, you can find and download the datasets here: [COVID-19](https://drive.google.com/file/d/1eD9LbxNJ35YUde3VtdVcjkwm-f4iyJ6x/view?usp=drive_link) and [MS](https://drive.google.com/drive/folders/1Qd42YNabzyr2pWt9xoY4cVMTAxsNBt4v?usp=sharing)\n",
    "\n",
    "[![Open In Colab](https://colab.research.google.com/assets/colab-badge.svg)](https://colab.research.google.com/github/bowang-lab/scGPT/blob/main/tutorials/zero-shot/Tutorial_ZeroShot_Integration.ipynb)"
   ]
  },
  {
   "cell_type": "code",
   "execution_count": 0,
   "metadata": {
    "application/vnd.databricks.v1+cell": {
     "cellMetadata": {},
     "inputWidgets": {},
     "nuid": "46497331-e4a8-445e-8a80-f741dd65c574",
     "showTitle": false,
     "title": ""
    }
   },
   "outputs": [],
   "source": [
    "# Specifically for Google Colab, install dependencies and download data\n",
    "\n",
    "import os\n",
    "import sys\n",
    "\n",
    "if \"google.colab\" in sys.modules:\n",
    "    print(\"Running on Google Colab\")\n",
    "    print(\"Installing dependencies...\")\n",
    "    !pip install -U scgpt\n",
    "    # the optional dependency of flash-attion is skipped on colab\n",
    "    !pip install wandb louvain\n",
    "\n",
    "    # NOTE: May need to restart runtime after the installation\n",
    "\n",
    "    print(\"Downloading data and model ckpt...\")\n",
    "    !pip install -q -U gdown\n",
    "    import gdown\n",
    "\n",
    "    data_dir = \"../../data\"\n",
    "    if not os.path.exists(data_dir):\n",
    "        os.mkdir(data_dir)\n",
    "    if not os.path.exists(os.path.join(data_dir, \"Kim2020_Lung.h5ad\")):\n",
    "        !gdown https://drive.google.com/uc?id=1z_0vWYMhRuRiD1EyhuFtY9ReIR0msWaL -O $data_dir/\n",
    "    if not os.path.exists(os.path.join(data_dir, \"covid_subsampled.h5ad\")):\n",
    "        !gdown https://drive.google.com/uc?id=1eD9LbxNJ35YUde3VtdVcjkwm-f4iyJ6x -O $data_dir/\n",
    "    if not os.path.exists(os.path.join(data_dir, \"ms\")):\n",
    "        gdown.download_folder(\n",
    "            \"https://drive.google.com/drive/folders/1Qd42YNabzyr2pWt9xoY4cVMTAxsNBt4v\",\n",
    "            output=os.path.join(data_dir, \"ms\"),\n",
    "        )\n",
    "\n",
    "    print(\"Downloading model ckpt...\")\n",
    "    model_dir = \"../../save/scGPT_human\"\n",
    "    if not os.path.exists(model_dir):\n",
    "        !mkdir -p $model_dir\n",
    "        gdown.download_folder(\n",
    "            \"https://drive.google.com/drive/folders/1oWh_-ZRdhtoGQ2Fw24HP41FgLoomVo-y\",\n",
    "            output=model_dir,\n",
    "        )"
   ]
  },
  {
   "cell_type": "markdown",
   "metadata": {
    "application/vnd.databricks.v1+cell": {
     "cellMetadata": {},
     "inputWidgets": {},
     "nuid": "844ee42c-65e8-4317-9f2a-1d385aeba9de",
     "showTitle": false,
     "title": ""
    }
   },
   "source": [
    "## Import scGPT and dependencies"
   ]
  },
  {
   "cell_type": "code",
   "execution_count": 0,
   "metadata": {
    "application/vnd.databricks.v1+cell": {
     "cellMetadata": {},
     "inputWidgets": {},
     "nuid": "6c22374d-83bd-4ea4-ad9c-306bb813d96b",
     "showTitle": false,
     "title": ""
    }
   },
   "outputs": [],
   "source": [
    "from pathlib import Path\n",
    "import warnings\n",
    "\n",
    "import scanpy as sc\n",
    "import scib\n",
    "import numpy as np\n",
    "import sys\n",
    "\n",
    "sys.path.insert(0, \"../\")\n",
    "\n",
    "import scgpt as scg\n",
    "import matplotlib.pyplot as plt\n",
    "import anndata\n",
    "\n",
    "plt.style.context('default')\n",
    "warnings.simplefilter(\"ignore\", ResourceWarning)\n",
    "\n",
    "model_dir = Path(\"../../save/scGPT_human\")"
   ]
  },
  {
   "cell_type": "markdown",
   "metadata": {
    "application/vnd.databricks.v1+cell": {
     "cellMetadata": {},
     "inputWidgets": {},
     "nuid": "eb7e318e-a0c7-488b-9fa9-352f39f0b562",
     "showTitle": false,
     "title": ""
    }
   },
   "source": [
    "## Set up evaluation function"
   ]
  },
  {
   "cell_type": "markdown",
   "metadata": {
    "application/vnd.databricks.v1+cell": {
     "cellMetadata": {},
     "inputWidgets": {},
     "nuid": "30a313c5-4185-4361-ae4a-0f33f8b756df",
     "showTitle": false,
     "title": ""
    }
   },
   "source": [
    "We set up the evaluation function, we mainly compare the integration performance on avgBIO and avgBATCH. Refer to our manuscript for more details."
   ]
  },
  {
   "cell_type": "code",
   "execution_count": 0,
   "metadata": {
    "application/vnd.databricks.v1+cell": {
     "cellMetadata": {},
     "inputWidgets": {},
     "nuid": "0cd9d889-94a6-40b2-929b-473914082a96",
     "showTitle": false,
     "title": ""
    }
   },
   "outputs": [],
   "source": [
    "\"\"\"\n",
    "Calculate the metrics for integration results\n",
    "\"\"\"\n",
    "def scib_eval(adata, batch_key, cell_type_key, embed_key):\n",
    "    results = scib.metrics.metrics(\n",
    "        adata,\n",
    "        adata_int=adata,\n",
    "        batch_key=batch_key,\n",
    "        label_key=cell_type_key,\n",
    "        embed=embed_key,\n",
    "        isolated_labels_asw_=False,\n",
    "        silhouette_=True,\n",
    "        hvg_score_=False,\n",
    "        graph_conn_=True,\n",
    "        pcr_=True,\n",
    "        isolated_labels_f1_=False,\n",
    "        trajectory_=False,\n",
    "        nmi_=True,  # use the clustering, bias to the best matching\n",
    "        ari_=True,  # use the clustering, bias to the best matching\n",
    "        cell_cycle_=False,\n",
    "        kBET_=False,  # kBET return nan sometimes, need to examine\n",
    "        ilisi_=False,\n",
    "        clisi_=False,\n",
    "    )\n",
    "    result_dict = results[0].to_dict()\n",
    "    \n",
    "    # compute avgBIO metrics\n",
    "    result_dict[\"avg_bio\"] = np.mean(\n",
    "        [\n",
    "            result_dict[\"NMI_cluster/label\"],\n",
    "            result_dict[\"ARI_cluster/label\"],\n",
    "            result_dict[\"ASW_label\"],\n",
    "        ]\n",
    "    )\n",
    "    \n",
    "    # compute avgBATCH metrics\n",
    "    result_dict[\"avg_batch\"] = np.mean(\n",
    "        [\n",
    "            result_dict[\"graph_conn\"],\n",
    "            result_dict[\"ASW_label/batch\"],\n",
    "        ]\n",
    "    )\n",
    "    \n",
    "    result_dict = {k: v for k, v in result_dict.items() if not np.isnan(v)}\n",
    "    \n",
    "    return result_dict"
   ]
  },
  {
   "cell_type": "markdown",
   "metadata": {
    "application/vnd.databricks.v1+cell": {
     "cellMetadata": {},
     "inputWidgets": {},
     "nuid": "40e263f9-dbbc-4a6c-b72d-cd0c7da36c46",
     "showTitle": false,
     "title": ""
    }
   },
   "source": [
    "## Prepare the datasets"
   ]
  },
  {
   "cell_type": "markdown",
   "metadata": {
    "application/vnd.databricks.v1+cell": {
     "cellMetadata": {},
     "inputWidgets": {},
     "nuid": "dca3026c-1368-4eca-82de-6fdc4710ae18",
     "showTitle": false,
     "title": ""
    }
   },
   "source": [
    "Load the Lung-kim dataset (download it from [here](https://drive.google.com/file/d/1z_0vWYMhRuRiD1EyhuFtY9ReIR0msWaL/view?usp=sharing)), and we set the columns storing gene name columns, batch key and cell type key (optional, this is for evaluation)."
   ]
  },
  {
   "cell_type": "code",
   "execution_count": 0,
   "metadata": {
    "application/vnd.databricks.v1+cell": {
     "cellMetadata": {},
     "inputWidgets": {},
     "nuid": "5e50ab17-9068-44fc-ac99-aa64af151acc",
     "showTitle": false,
     "title": ""
    }
   },
   "outputs": [],
   "source": [
    "smaple_data_path = '../../data/Kim2020_Lung.h5ad'\n",
    "adata = sc.read_h5ad(smaple_data_path)\n",
    "\n",
    "gene_col = \"gene_name\"\n",
    "cell_type_key = \"cell_type\"\n",
    "batch_key = \"sample\"\n",
    "N_HVG = 3000"
   ]
  },
  {
   "cell_type": "markdown",
   "metadata": {
    "application/vnd.databricks.v1+cell": {
     "cellMetadata": {},
     "inputWidgets": {},
     "nuid": "a0595d58-2a1e-45ca-8f50-309012d805ae",
     "showTitle": false,
     "title": ""
    }
   },
   "source": [
    "Remove unannotated cells:"
   ]
  },
  {
   "cell_type": "code",
   "execution_count": 0,
   "metadata": {
    "application/vnd.databricks.v1+cell": {
     "cellMetadata": {},
     "inputWidgets": {},
     "nuid": "9f287296-32fb-4d13-9429-16de5a5c1c83",
     "showTitle": false,
     "title": ""
    }
   },
   "outputs": [],
   "source": [
    "celltype_id_labels = adata.obs[cell_type_key].astype(\"category\").cat.codes.values\n",
    "adata = adata[celltype_id_labels >= 0]"
   ]
  },
  {
   "cell_type": "markdown",
   "metadata": {
    "application/vnd.databricks.v1+cell": {
     "cellMetadata": {},
     "inputWidgets": {},
     "nuid": "2e7ffe74-74d1-4703-9126-9a10bebb07a9",
     "showTitle": false,
     "title": ""
    }
   },
   "source": [
    "Make a copy of the dataset"
   ]
  },
  {
   "cell_type": "code",
   "execution_count": 0,
   "metadata": {
    "application/vnd.databricks.v1+cell": {
     "cellMetadata": {},
     "inputWidgets": {},
     "nuid": "700cdad7-689d-495a-9c61-ab1cb1e94de9",
     "showTitle": false,
     "title": ""
    }
   },
   "outputs": [],
   "source": [
    "org_adata = adata.copy()"
   ]
  },
  {
   "cell_type": "markdown",
   "metadata": {
    "application/vnd.databricks.v1+cell": {
     "cellMetadata": {},
     "inputWidgets": {},
     "nuid": "fc59ac7c-77f0-4334-98ab-a4882fa43774",
     "showTitle": false,
     "title": ""
    }
   },
   "source": [
    "Preprocess the dataset and select `N_HVG` highly variable genes for downstream analysis."
   ]
  },
  {
   "cell_type": "code",
   "execution_count": 0,
   "metadata": {
    "application/vnd.databricks.v1+cell": {
     "cellMetadata": {},
     "inputWidgets": {},
     "nuid": "fe90fb91-1679-4642-bb18-f52a4cd6688f",
     "showTitle": false,
     "title": ""
    }
   },
   "outputs": [],
   "source": [
    "# highly variable genes\n",
    "sc.pp.highly_variable_genes(adata, n_top_genes=N_HVG, flavor='seurat_v3')\n",
    "adata = adata[:, adata.var['highly_variable']]"
   ]
  },
  {
   "cell_type": "markdown",
   "metadata": {
    "application/vnd.databricks.v1+cell": {
     "cellMetadata": {},
     "inputWidgets": {},
     "nuid": "ce92b79d-a56e-4a08-80b3-77fa7cade371",
     "showTitle": false,
     "title": ""
    }
   },
   "source": [
    "## Generate the cell embeddings"
   ]
  },
  {
   "cell_type": "markdown",
   "metadata": {
    "application/vnd.databricks.v1+cell": {
     "cellMetadata": {},
     "inputWidgets": {},
     "nuid": "ef62f2a1-d6a8-4644-89a1-099a5fb268e5",
     "showTitle": false,
     "title": ""
    }
   },
   "source": [
    "Now we will generate the cell embeddings for the dataset using `embed_data` function. `embed_data` calculates the cell embedding for each cell with the given scGPT model. The extracted embedding is stored in the `X_scGPT` field of `obsm` in AnnData."
   ]
  },
  {
   "cell_type": "code",
   "execution_count": 0,
   "metadata": {
    "application/vnd.databricks.v1+cell": {
     "cellMetadata": {},
     "inputWidgets": {},
     "nuid": "191cd365-9783-40fd-9fc6-a8804b52d2b7",
     "showTitle": false,
     "title": ""
    }
   },
   "outputs": [],
   "source": [
    "embed_adata = scg.tasks.embed_data(\n",
    "    adata,\n",
    "    model_dir,\n",
    "    gene_col=gene_col,\n",
    "    batch_size=64,\n",
    ")\n",
    "# attach the cell embedding to the original adata"
   ]
  },
  {
   "cell_type": "markdown",
   "metadata": {
    "application/vnd.databricks.v1+cell": {
     "cellMetadata": {},
     "inputWidgets": {},
     "nuid": "0cdd4ad8-9270-40b5-9b5c-35d32f8a9310",
     "showTitle": false,
     "title": ""
    }
   },
   "source": [
    "## Visualize the integration performance"
   ]
  },
  {
   "cell_type": "markdown",
   "metadata": {
    "application/vnd.databricks.v1+cell": {
     "cellMetadata": {},
     "inputWidgets": {},
     "nuid": "6acf4385-db46-436b-bd92-0379d697e9a2",
     "showTitle": false,
     "title": ""
    }
   },
   "source": [
    "UMAP of scGPT embedding colored by cell type:"
   ]
  },
  {
   "cell_type": "code",
   "execution_count": 0,
   "metadata": {
    "application/vnd.databricks.v1+cell": {
     "cellMetadata": {},
     "inputWidgets": {},
     "nuid": "29fc2d4b-e4d7-4d86-b4ac-5d74c4e026b7",
     "showTitle": false,
     "title": ""
    }
   },
   "outputs": [],
   "source": [
    "sc.pp.neighbors(embed_adata, use_rep=\"X_scGPT\")\n",
    "sc.tl.umap(embed_adata)\n",
    "sc.pl.umap(embed_adata, \n",
    "           color=[cell_type_key, batch_key], \n",
    "           frameon=False, \n",
    "           wspace=0.4, \n",
    "           title=[\"scGPT zero-shot: cell type\", \"scGPT zero-shot: batch label\"])"
   ]
  },
  {
   "cell_type": "markdown",
   "metadata": {
    "application/vnd.databricks.v1+cell": {
     "cellMetadata": {},
     "inputWidgets": {},
     "nuid": "dbaa5948-87ed-4eb9-9fbe-9bcddcc1808a",
     "showTitle": false,
     "title": ""
    }
   },
   "source": [
    "## Evaluate the integration performance"
   ]
  },
  {
   "cell_type": "code",
   "execution_count": 0,
   "metadata": {
    "application/vnd.databricks.v1+cell": {
     "cellMetadata": {},
     "inputWidgets": {},
     "nuid": "b07dd3a0-281a-49d9-ba81-83922f834775",
     "showTitle": false,
     "title": ""
    }
   },
   "outputs": [],
   "source": [
    "scib_result_dict = scib_eval(\n",
    "    embed_adata,\n",
    "    batch_key=batch_key,\n",
    "    cell_type_key=cell_type_key,\n",
    "    embed_key=\"X_scGPT\",\n",
    ")"
   ]
  },
  {
   "cell_type": "code",
   "execution_count": 0,
   "metadata": {
    "application/vnd.databricks.v1+cell": {
     "cellMetadata": {},
     "inputWidgets": {},
     "nuid": "808ddf34-8add-448a-b99c-68e46e18a8ab",
     "showTitle": false,
     "title": ""
    }
   },
   "outputs": [],
   "source": [
    "print(\"AvgBIO: {:.4f}\".format(scib_result_dict[\"avg_bio\"]))\n",
    "print(\"AvgBATCH: {:.4f}\".format(scib_result_dict[\"avg_batch\"]))"
   ]
  },
  {
   "cell_type": "markdown",
   "metadata": {
    "application/vnd.databricks.v1+cell": {
     "cellMetadata": {},
     "inputWidgets": {},
     "nuid": "74273d73-cc0a-48fd-a6b5-2504ead98435",
     "showTitle": false,
     "title": ""
    }
   },
   "source": [
    "## Comparison with HVG+PCs"
   ]
  },
  {
   "cell_type": "markdown",
   "metadata": {
    "application/vnd.databricks.v1+cell": {
     "cellMetadata": {},
     "inputWidgets": {},
     "nuid": "f650a5a5-4be3-4828-8dfa-399e06e71fce",
     "showTitle": false,
     "title": ""
    }
   },
   "source": [
    "We compute the HVG and PCs based on the dataset, this will serve as a baseline for the integration performance."
   ]
  },
  {
   "cell_type": "code",
   "execution_count": 0,
   "metadata": {
    "application/vnd.databricks.v1+cell": {
     "cellMetadata": {},
     "inputWidgets": {},
     "nuid": "92e1039a-fc4c-40dc-a6de-844ae729e1e1",
     "showTitle": false,
     "title": ""
    }
   },
   "outputs": [],
   "source": [
    "adata = org_adata.copy()\n",
    "sc.pp.highly_variable_genes(adata, n_top_genes=N_HVG, flavor='seurat_v3')\n",
    "adata = adata[:, adata.var['highly_variable']]\n",
    "sc.pp.pca(adata, n_comps=40)\n",
    "sc.pp.neighbors(adata, use_rep=\"X_pca\")"
   ]
  },
  {
   "cell_type": "markdown",
   "metadata": {
    "application/vnd.databricks.v1+cell": {
     "cellMetadata": {},
     "inputWidgets": {},
     "nuid": "a903814f-1bc9-49c2-a955-a3595e190d14",
     "showTitle": false,
     "title": ""
    }
   },
   "source": [
    "UMAP of PCs colored by cell types and batch labels:"
   ]
  },
  {
   "cell_type": "code",
   "execution_count": 0,
   "metadata": {
    "application/vnd.databricks.v1+cell": {
     "cellMetadata": {},
     "inputWidgets": {},
     "nuid": "f3e6e559-71a0-4f32-b80d-149f1ca94f22",
     "showTitle": false,
     "title": ""
    }
   },
   "outputs": [],
   "source": [
    "sc.pp.neighbors(adata, use_rep=\"X_pca\")\n",
    "sc.tl.umap(adata)\n",
    "sc.pl.umap(adata, \n",
    "           color=[cell_type_key, batch_key], \n",
    "           frameon=False, \n",
    "           wspace=0.4, \n",
    "           title=[\"HVG+PCs: cell type\", \"HVG+PCs: batch label\"])"
   ]
  },
  {
   "cell_type": "code",
   "execution_count": 0,
   "metadata": {
    "application/vnd.databricks.v1+cell": {
     "cellMetadata": {},
     "inputWidgets": {},
     "nuid": "56bd5ea2-fc46-4551-b9aa-9e8b31840d72",
     "showTitle": false,
     "title": ""
    }
   },
   "outputs": [],
   "source": [
    "scib_result_dict = scib_eval(\n",
    "    adata,\n",
    "    batch_key=batch_key,\n",
    "    cell_type_key=cell_type_key,\n",
    "    embed_key=\"X_pca\",\n",
    ")"
   ]
  },
  {
   "cell_type": "code",
   "execution_count": 0,
   "metadata": {
    "application/vnd.databricks.v1+cell": {
     "cellMetadata": {},
     "inputWidgets": {},
     "nuid": "33533726-4f11-4cb4-a463-c0f74286cffb",
     "showTitle": false,
     "title": ""
    }
   },
   "outputs": [],
   "source": [
    "print(\"AvgBIO: {:.4f}\".format(scib_result_dict[\"avg_bio\"]))\n",
    "print(\"AvgBATCH: {:.4f}\".format(scib_result_dict[\"avg_batch\"]))"
   ]
  },
  {
   "cell_type": "markdown",
   "metadata": {
    "application/vnd.databricks.v1+cell": {
     "cellMetadata": {},
     "inputWidgets": {},
     "nuid": "c8ba5b7f-98f9-4d16-b91f-288ccb56beaf",
     "showTitle": false,
     "title": ""
    }
   },
   "source": [
    "## Appendix: Zero-shot integration on COVID-19 dataset and MS dataset"
   ]
  },
  {
   "cell_type": "markdown",
   "metadata": {
    "application/vnd.databricks.v1+cell": {
     "cellMetadata": {},
     "inputWidgets": {},
     "nuid": "0d28977a-4167-45a7-acb7-03d3c2e56670",
     "showTitle": false,
     "title": ""
    }
   },
   "source": [
    "### COVID-19 dataset\n",
    "\n",
    "The dataset can be accessed form [here](https://drive.google.com/file/d/1eD9LbxNJ35YUde3VtdVcjkwm-f4iyJ6x/view?usp=drive_link)."
   ]
  },
  {
   "cell_type": "code",
   "execution_count": 0,
   "metadata": {
    "application/vnd.databricks.v1+cell": {
     "cellMetadata": {},
     "inputWidgets": {},
     "nuid": "29e5ff10-611d-4e18-97a7-014156464366",
     "showTitle": false,
     "title": ""
    }
   },
   "outputs": [],
   "source": [
    "# load dataset\n",
    "adata = sc.read_h5ad('../../data/covid_subsampled.h5ad')\n",
    "gene_col = \"gene_name\"\n",
    "cell_type_key = \"celltype\"\n",
    "batch_key = \"str_batch\"\n",
    "embed_adata = scg.tasks.embed_data(\n",
    "    adata,\n",
    "    model_dir,\n",
    "    gene_col=gene_col,\n",
    "    batch_size=64,\n",
    ")"
   ]
  },
  {
   "cell_type": "code",
   "execution_count": 0,
   "metadata": {
    "application/vnd.databricks.v1+cell": {
     "cellMetadata": {},
     "inputWidgets": {},
     "nuid": "7962a54c-739f-4c37-a1b6-a6cc3a6cfde0",
     "showTitle": false,
     "title": ""
    }
   },
   "outputs": [],
   "source": [
    "sc.pp.neighbors(embed_adata, use_rep=\"X_scGPT\")\n",
    "sc.tl.umap(embed_adata)\n",
    "sc.pl.umap(embed_adata, \n",
    "           color=[cell_type_key], \n",
    "           frameon=False, \n",
    "           title=[\"COVID19 - scGPT zero-shot: cell type\"])"
   ]
  },
  {
   "cell_type": "code",
   "execution_count": 0,
   "metadata": {
    "application/vnd.databricks.v1+cell": {
     "cellMetadata": {},
     "inputWidgets": {},
     "nuid": "8b0fd783-3144-479b-8d77-b56f804c85b4",
     "showTitle": false,
     "title": ""
    }
   },
   "outputs": [],
   "source": [
    "sc.pl.umap(embed_adata, \n",
    "           color=[batch_key], \n",
    "           frameon=False, \n",
    "           title=[\"COVID19 - scGPT zero-shot: batch label\"])"
   ]
  },
  {
   "cell_type": "code",
   "execution_count": 0,
   "metadata": {
    "application/vnd.databricks.v1+cell": {
     "cellMetadata": {},
     "inputWidgets": {},
     "nuid": "3e016f24-7122-4611-98d2-8072735cab0a",
     "showTitle": false,
     "title": ""
    }
   },
   "outputs": [],
   "source": [
    "scib_result_dict = scib_eval(\n",
    "    embed_adata,\n",
    "    batch_key=batch_key,\n",
    "    cell_type_key=cell_type_key,\n",
    "    embed_key=\"X_scGPT\",\n",
    ")\n",
    "print(\"AvgBIO: {:.4f}\".format(scib_result_dict[\"avg_bio\"]))\n",
    "print(\"AvgBATCH: {:.4f}\".format(scib_result_dict[\"avg_batch\"]))"
   ]
  },
  {
   "cell_type": "markdown",
   "metadata": {
    "application/vnd.databricks.v1+cell": {
     "cellMetadata": {},
     "inputWidgets": {},
     "nuid": "7f4a1780-cb61-445b-8af7-51e0067c01fb",
     "showTitle": false,
     "title": ""
    }
   },
   "source": [
    "## Comparison with HVG+PCs"
   ]
  },
  {
   "cell_type": "code",
   "execution_count": 0,
   "metadata": {
    "application/vnd.databricks.v1+cell": {
     "cellMetadata": {},
     "inputWidgets": {},
     "nuid": "955fbc84-c539-4c03-a720-4f7b7e3827e6",
     "showTitle": false,
     "title": ""
    }
   },
   "outputs": [],
   "source": [
    "sc.pp.pca(adata, n_comps=40)\n",
    "sc.pp.neighbors(adata, use_rep=\"X_pca\")"
   ]
  },
  {
   "cell_type": "code",
   "execution_count": 0,
   "metadata": {
    "application/vnd.databricks.v1+cell": {
     "cellMetadata": {},
     "inputWidgets": {},
     "nuid": "ae69cf0a-95a4-471b-95b7-2a7c13e5acc0",
     "showTitle": false,
     "title": ""
    }
   },
   "outputs": [],
   "source": [
    "sc.pp.neighbors(adata, use_rep=\"X_pca\")\n",
    "sc.tl.umap(adata)\n",
    "sc.pl.umap(\n",
    "    adata,\n",
    "    color=[cell_type_key, batch_key],\n",
    "    frameon=False,\n",
    "    wspace=0.4,\n",
    "    title=[\"HVG+PCs: cell type\", \"HVG+PCs: batch label\"],\n",
    "    ncols=1,\n",
    ")"
   ]
  },
  {
   "cell_type": "code",
   "execution_count": 0,
   "metadata": {
    "application/vnd.databricks.v1+cell": {
     "cellMetadata": {},
     "inputWidgets": {},
     "nuid": "55b1f2c9-f813-424f-b598-3b4177284aab",
     "showTitle": false,
     "title": ""
    }
   },
   "outputs": [],
   "source": [
    "scib_result_dict = scib_eval(\n",
    "    adata,\n",
    "    batch_key=batch_key,\n",
    "    cell_type_key=cell_type_key,\n",
    "    embed_key=\"X_pca\",\n",
    ")\n",
    "print(\"AvgBIO: {:.4f}\".format(scib_result_dict[\"avg_bio\"]))\n",
    "print(\"AvgBATCH: {:.4f}\".format(scib_result_dict[\"avg_batch\"]))"
   ]
  },
  {
   "cell_type": "markdown",
   "metadata": {
    "application/vnd.databricks.v1+cell": {
     "cellMetadata": {},
     "inputWidgets": {},
     "nuid": "89146fee-1dd0-4809-b24a-9d18dd1d28f7",
     "showTitle": false,
     "title": ""
    }
   },
   "source": [
    "### MS dataset\n",
    "\n",
    "The dataset can be accessed form [here](https://drive.google.com/drive/folders/1Qd42YNabzyr2pWt9xoY4cVMTAxsNBt4v?usp=sharing). As this is a preprocessed dataset, we will need to concatenate the training/test datasets together first."
   ]
  },
  {
   "cell_type": "code",
   "execution_count": 0,
   "metadata": {
    "application/vnd.databricks.v1+cell": {
     "cellMetadata": {},
     "inputWidgets": {},
     "nuid": "dd56d0f5-e823-4ab5-9e13-a3b174f67855",
     "showTitle": false,
     "title": ""
    }
   },
   "outputs": [],
   "source": [
    "gene_col = \"gene_name\"\n",
    "cell_type_key = \"celltype\"\n",
    "batch_key = \"Sample Characteristic[individual]\"\n",
    "\n",
    "train_data = sc.read_h5ad('../../data/ms/c_data.h5ad')\n",
    "test_data = sc.read_h5ad('../../data/ms/filtered_ms_adata.h5ad')\n",
    "test_data.var.index = test_data.var[gene_col]\n",
    "adata = anndata.concat([train_data, test_data], join='outer')\n",
    "adata.var[gene_col] = adata.var.index\n",
    "\n",
    "embed_adata = scg.tasks.embed_data(\n",
    "    adata,\n",
    "    model_dir,\n",
    "    gene_col=gene_col,\n",
    "    batch_size=64,\n",
    ")"
   ]
  },
  {
   "cell_type": "code",
   "execution_count": 0,
   "metadata": {
    "application/vnd.databricks.v1+cell": {
     "cellMetadata": {},
     "inputWidgets": {},
     "nuid": "de6f74f1-9b2b-41b9-86b8-fa67d976c1ca",
     "showTitle": false,
     "title": ""
    }
   },
   "outputs": [],
   "source": [
    "sc.pp.neighbors(embed_adata, use_rep=\"X_scGPT\")\n",
    "sc.tl.umap(embed_adata)\n",
    "sc.pl.umap(embed_adata, \n",
    "           color=[cell_type_key], \n",
    "           frameon=False, \n",
    "           title=[\"MS - scGPT zero-shot: cell type\"])"
   ]
  },
  {
   "cell_type": "code",
   "execution_count": 0,
   "metadata": {
    "application/vnd.databricks.v1+cell": {
     "cellMetadata": {},
     "inputWidgets": {},
     "nuid": "fb408ff5-95a0-4c13-938b-facb15d33758",
     "showTitle": false,
     "title": ""
    }
   },
   "outputs": [],
   "source": [
    "sc.pp.neighbors(embed_adata, use_rep=\"X_scGPT\")\n",
    "sc.tl.umap(embed_adata)\n",
    "sc.pl.umap(embed_adata, \n",
    "           color=[batch_key], \n",
    "           frameon=False, \n",
    "           title=[\"MS - scGPT zero-shot: batch label\"])"
   ]
  },
  {
   "cell_type": "code",
   "execution_count": 0,
   "metadata": {
    "application/vnd.databricks.v1+cell": {
     "cellMetadata": {},
     "inputWidgets": {},
     "nuid": "9e65be98-6ea6-4822-ae85-9ba0f87bba38",
     "showTitle": false,
     "title": ""
    }
   },
   "outputs": [],
   "source": [
    "scib_result_dict = scib_eval(\n",
    "    embed_adata,\n",
    "    batch_key=batch_key,\n",
    "    cell_type_key=cell_type_key,\n",
    "    embed_key=\"X_scGPT\",\n",
    ")\n",
    "print(\"AvgBIO: {:.4f}\".format(scib_result_dict[\"avg_bio\"]))\n",
    "print(\"AvgBATCH: {:.4f}\".format(scib_result_dict[\"avg_batch\"]))"
   ]
  },
  {
   "cell_type": "markdown",
   "metadata": {
    "application/vnd.databricks.v1+cell": {
     "cellMetadata": {},
     "inputWidgets": {},
     "nuid": "f5a5581b-7237-465c-9854-95f53435a6df",
     "showTitle": false,
     "title": ""
    }
   },
   "source": [
    "## Comparison with HVG+PCs"
   ]
  },
  {
   "cell_type": "code",
   "execution_count": 0,
   "metadata": {
    "application/vnd.databricks.v1+cell": {
     "cellMetadata": {},
     "inputWidgets": {},
     "nuid": "92306cb5-3380-449d-99d8-0f351f7c2bd9",
     "showTitle": false,
     "title": ""
    }
   },
   "outputs": [],
   "source": [
    "sc.pp.pca(adata, n_comps=40)\n",
    "sc.pp.neighbors(adata, use_rep=\"X_pca\")"
   ]
  },
  {
   "cell_type": "code",
   "execution_count": 0,
   "metadata": {
    "application/vnd.databricks.v1+cell": {
     "cellMetadata": {},
     "inputWidgets": {},
     "nuid": "1e39a747-e53a-4daf-b6e9-38f467125665",
     "showTitle": false,
     "title": ""
    }
   },
   "outputs": [],
   "source": [
    "sc.pp.neighbors(adata, use_rep=\"X_pca\")\n",
    "sc.tl.umap(adata)\n",
    "sc.pl.umap(\n",
    "    adata,\n",
    "    color=[cell_type_key, batch_key],\n",
    "    frameon=False,\n",
    "    wspace=0.4,\n",
    "    title=[\"HVG+PCs: cell type\", \"HVG+PCs: batch label\"],\n",
    "    ncols=1,\n",
    ")"
   ]
  },
  {
   "cell_type": "code",
   "execution_count": 0,
   "metadata": {
    "application/vnd.databricks.v1+cell": {
     "cellMetadata": {},
     "inputWidgets": {},
     "nuid": "4c28cfae-f0e0-4683-a587-a8c9d853df48",
     "showTitle": false,
     "title": ""
    }
   },
   "outputs": [],
   "source": [
    "scib_result_dict = scib_eval(\n",
    "    adata,\n",
    "    batch_key=batch_key,\n",
    "    cell_type_key=cell_type_key,\n",
    "    embed_key=\"X_pca\",\n",
    ")\n",
    "print(\"AvgBIO: {:.4f}\".format(scib_result_dict[\"avg_bio\"]))\n",
    "print(\"AvgBATCH: {:.4f}\".format(scib_result_dict[\"avg_batch\"]))"
   ]
  },
  {
   "cell_type": "code",
   "execution_count": 0,
   "metadata": {
    "application/vnd.databricks.v1+cell": {
     "cellMetadata": {},
     "inputWidgets": {},
     "nuid": "004265b9-c44a-419e-875d-c52d9b602e33",
     "showTitle": false,
     "title": ""
    }
   },
   "outputs": [],
   "source": []
  }
 ],
 "metadata": {
  "application/vnd.databricks.v1+notebook": {
   "dashboards": [],
   "environmentMetadata": null,
   "language": "python",
   "notebookMetadata": {},
   "notebookName": "Tutorial_ZeroShot_Integration",
   "widgets": {}
  },
  "kernelspec": {
   "display_name": "scgpt-o4JycL9C-py3.9",
   "language": "python",
   "name": "python3"
  },
  "language_info": {
   "codemirror_mode": {
    "name": "ipython",
    "version": 3
   },
   "file_extension": ".py",
   "mimetype": "text/x-python",
   "name": "python",
   "nbconvert_exporter": "python",
   "pygments_lexer": "ipython3",
   "version": "3.7.13"
  }
 },
 "nbformat": 4,
 "nbformat_minor": 0
}
