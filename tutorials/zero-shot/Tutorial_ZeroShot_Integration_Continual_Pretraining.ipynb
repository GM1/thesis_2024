{
 "cells": [
  {
   "cell_type": "markdown",
   "metadata": {
    "application/vnd.databricks.v1+cell": {
     "cellMetadata": {},
     "inputWidgets": {},
     "nuid": "89c76830-f4f5-4b72-9819-48808c948dce",
     "showTitle": false,
     "title": ""
    }
   },
   "source": [
    "# Zero-shot integration tutorial with scGPT"
   ]
  },
  {
   "cell_type": "markdown",
   "metadata": {
    "application/vnd.databricks.v1+cell": {
     "cellMetadata": {},
     "inputWidgets": {},
     "nuid": "3e70e353-e521-4c10-be5e-50606e09457e",
     "showTitle": false,
     "title": ""
    }
   },
   "source": [
    "## Introduction\n",
    "\n",
    "This tutorial covers the zero-shot integration with continual pre-trained scGPT. This particular workflow works for scRNA-seq datasets without fine-tuning (or any extensive training) of scGPT.\n",
    "\n",
    "Continual pre-trained scGPT (scGPT_CP) is a model that inherits the pre-trained scGPT whole-human model checkpoint, and is further supervised by extra cell type labels (using the [Tabula Sapiens](https://tabula-sapiens-portal.ds.czbiohub.org/) dataset) during the continual pre-training stage. We observed that the scGPT_CP model can achieve comparable or better zero-shot performance on cell embedding related tasks compared to the original checkpoint, especially on datasets with observable technical batch effects.\n",
    "\n",
    "This tutorial will show how to use the latent space of scGPT to integrate scRNA-seq datasets. We use the `scGPT_CP` model to provide embeddings out of the box. You may download it from [here](https://drive.google.com/drive/folders/1_GROJTzXiAV8HB4imruOTk6PEGuNOcgB)."
   ]
  },
  {
   "cell_type": "markdown",
   "metadata": {
    "application/vnd.databricks.v1+cell": {
     "cellMetadata": {},
     "inputWidgets": {},
     "nuid": "a0bcc7db-2682-4c95-b2c0-68c68e49908e",
     "showTitle": false,
     "title": ""
    }
   },
   "source": [
    "We will use the [scIB](https://www.nature.com/articles/s41592-021-01336-8) pancreas dataset as an example. This dataset is publicly accessible via [here](https://figshare.com/ndownloader/files/24539828). You may place the dataset under `data` directory at the outer level.\n",
    "\n",
    "\n",
    "The zero-shot integration workflow is as follows:\n",
    "\n",
    " 1. [Load and pre-process the dataset](#prepare-the-datasets)\n",
    "    \n",
    " 2. [Generate scGPT embeddings for each cell](#generate-the-cell-embeddings)\n",
    "\n",
    "[![Open In Colab](https://colab.research.google.com/assets/colab-badge.svg)](https://colab.research.google.com/github/bowang-lab/scGPT/blob/main/tutorials/zero-shot/Tutorial_ZeroShot_Integration_Continual_Pretraining.ipynb)"
   ]
  },
  {
   "cell_type": "code",
   "execution_count": 0,
   "metadata": {
    "application/vnd.databricks.v1+cell": {
     "cellMetadata": {},
     "inputWidgets": {},
     "nuid": "0415b822-47d6-42c4-9c38-718add4d4c2a",
     "showTitle": false,
     "title": ""
    }
   },
   "outputs": [],
   "source": [
    "# Specifically for Google Colab, install dependencies and download data\n",
    "\n",
    "import os\n",
    "import sys\n",
    "\n",
    "if \"google.colab\" in sys.modules:\n",
    "    print(\"Running on Google Colab\")\n",
    "    print(\"Installing dependencies...\")\n",
    "    !pip install -U scgpt\n",
    "    # the optional dependency of flash-attion is skipped on colab\n",
    "    !pip install wandb louvain\n",
    "\n",
    "    # NOTE: May need to restart runtime after the installation\n",
    "\n",
    "    print(\"Downloading data and model ckpt...\")\n",
    "    !pip install -q -U gdown\n",
    "    import gdown\n",
    "\n",
    "    data_dir = \"../../data\"\n",
    "    if not os.path.exists(data_dir):\n",
    "        os.mkdir(data_dir)\n",
    "    if not os.path.exists(os.path.join(data_dir, \"human_pancreas_norm_complexBatch.h5ad\")):\n",
    "        !wget --content-disposition https://figshare.com/ndownloader/files/24539828 -O $data_dir/human_pancreas_norm_complexBatch.h5ad\n",
    "\n",
    "    print(\"Downloading model ckpt...\")\n",
    "    model_dir = \"../../save/scGPT_CP\"\n",
    "    if not os.path.exists(model_dir):\n",
    "        !mkdir -p $model_dir\n",
    "        gdown.download_folder(\n",
    "            \"https://drive.google.com/drive/folders/1_GROJTzXiAV8HB4imruOTk6PEGuNOcgB?usp=sharing\",\n",
    "            output=model_dir,\n",
    "        )\n",
    "    model_dir = \"../../save/scGPT_human\"\n",
    "    if not os.path.exists(model_dir):\n",
    "        !mkdir -p $model_dir\n",
    "        gdown.download_folder(\n",
    "            \"https://drive.google.com/drive/folders/1oWh_-ZRdhtoGQ2Fw24HP41FgLoomVo-y\",\n",
    "            output=model_dir,\n",
    "        )"
   ]
  },
  {
   "cell_type": "markdown",
   "metadata": {
    "application/vnd.databricks.v1+cell": {
     "cellMetadata": {},
     "inputWidgets": {},
     "nuid": "d6de815f-1de7-4b6b-af10-6c636769ff03",
     "showTitle": false,
     "title": ""
    }
   },
   "source": [
    "## Import scGPT and dependencies"
   ]
  },
  {
   "cell_type": "code",
   "execution_count": 0,
   "metadata": {
    "application/vnd.databricks.v1+cell": {
     "cellMetadata": {},
     "inputWidgets": {},
     "nuid": "aa6ebeb1-81a1-4ae7-82ee-1422920d784f",
     "showTitle": false,
     "title": ""
    }
   },
   "outputs": [],
   "source": [
    "from pathlib import Path\n",
    "import warnings\n",
    "\n",
    "import scanpy as sc\n",
    "import scib\n",
    "import numpy as np\n",
    "import sys\n",
    "\n",
    "sys.path.insert(0, \"../\")\n",
    "\n",
    "import scgpt as scg\n",
    "import matplotlib.pyplot as plt\n",
    "\n",
    "plt.style.context('default')\n",
    "warnings.simplefilter(\"ignore\", ResourceWarning)\n",
    "\n",
    "model_dir = Path(\"../../save/scGPT_CP\")"
   ]
  },
  {
   "cell_type": "markdown",
   "metadata": {
    "application/vnd.databricks.v1+cell": {
     "cellMetadata": {},
     "inputWidgets": {},
     "nuid": "edd2b76a-e529-42a4-a47d-bea3b817e319",
     "showTitle": false,
     "title": ""
    }
   },
   "source": [
    "## Set up evaluation function"
   ]
  },
  {
   "cell_type": "markdown",
   "metadata": {
    "application/vnd.databricks.v1+cell": {
     "cellMetadata": {},
     "inputWidgets": {},
     "nuid": "db79a1a4-2bbe-4bb9-8b7e-f753b8263b50",
     "showTitle": false,
     "title": ""
    }
   },
   "source": [
    "We set up the evaluation function, we mainly compare the integration performance on avgBIO and avgBATCH. Refer to our manuscript for more details."
   ]
  },
  {
   "cell_type": "code",
   "execution_count": 0,
   "metadata": {
    "application/vnd.databricks.v1+cell": {
     "cellMetadata": {},
     "inputWidgets": {},
     "nuid": "9e61187b-460e-4220-b3a8-cb5b4469587d",
     "showTitle": false,
     "title": ""
    }
   },
   "outputs": [],
   "source": [
    "\"\"\"\n",
    "Calculate the metrics for integration results\n",
    "\"\"\"\n",
    "def scib_eval(adata, batch_key, cell_type_key, embed_key):\n",
    "    results = scib.metrics.metrics(\n",
    "        adata,\n",
    "        adata_int=adata,\n",
    "        batch_key=batch_key,\n",
    "        label_key=cell_type_key,\n",
    "        embed=embed_key,\n",
    "        isolated_labels_asw_=False,\n",
    "        silhouette_=True,\n",
    "        hvg_score_=False,\n",
    "        graph_conn_=True,\n",
    "        pcr_=True,\n",
    "        isolated_labels_f1_=False,\n",
    "        trajectory_=False,\n",
    "        nmi_=True,  # use the clustering, bias to the best matching\n",
    "        ari_=True,  # use the clustering, bias to the best matching\n",
    "        cell_cycle_=False,\n",
    "        kBET_=False,  # kBET return nan sometimes, need to examine\n",
    "        ilisi_=False,\n",
    "        clisi_=False,\n",
    "    )\n",
    "    result_dict = results[0].to_dict()\n",
    "    \n",
    "    # compute avgBIO metrics\n",
    "    result_dict[\"avg_bio\"] = np.mean(\n",
    "        [\n",
    "            result_dict[\"NMI_cluster/label\"],\n",
    "            result_dict[\"ARI_cluster/label\"],\n",
    "            result_dict[\"ASW_label\"],\n",
    "        ]\n",
    "    )\n",
    "    \n",
    "    # compute avgBATCH metrics\n",
    "    result_dict[\"avg_batch\"] = np.mean(\n",
    "        [\n",
    "            result_dict[\"graph_conn\"],\n",
    "            result_dict[\"ASW_label/batch\"],\n",
    "        ]\n",
    "    )\n",
    "    \n",
    "    result_dict = {k: v for k, v in result_dict.items() if not np.isnan(v)}\n",
    "    \n",
    "    return result_dict"
   ]
  },
  {
   "cell_type": "markdown",
   "metadata": {
    "application/vnd.databricks.v1+cell": {
     "cellMetadata": {},
     "inputWidgets": {},
     "nuid": "c2c1a101-8653-414f-9b0c-ac9eda7c5502",
     "showTitle": false,
     "title": ""
    }
   },
   "source": [
    "## Prepare the datasets"
   ]
  },
  {
   "cell_type": "markdown",
   "metadata": {
    "application/vnd.databricks.v1+cell": {
     "cellMetadata": {},
     "inputWidgets": {},
     "nuid": "32273d7c-e6f6-4786-a969-06156b43e0af",
     "showTitle": false,
     "title": ""
    }
   },
   "source": [
    "Load the Pancreas dataset (download it from [here](https://figshare.com/ndownloader/files/24539828)), and we set the columns storing gene name columns, batch key and cell type key (optional, this is for evaluation)."
   ]
  },
  {
   "cell_type": "code",
   "execution_count": 0,
   "metadata": {
    "application/vnd.databricks.v1+cell": {
     "cellMetadata": {},
     "inputWidgets": {},
     "nuid": "8d96e9d2-75e7-48cd-9bbb-5dcd40c62155",
     "showTitle": false,
     "title": ""
    }
   },
   "outputs": [],
   "source": [
    "smaple_data_path = '../../data/human_pancreas_norm_complexBatch.h5ad'\n",
    "adata = sc.read_h5ad(smaple_data_path)\n",
    "\n",
    "gene_col = \"Gene Symbol\"\n",
    "cell_type_key = \"celltype\"\n",
    "batch_key = \"tech\"\n",
    "N_HVG = 1800"
   ]
  },
  {
   "cell_type": "code",
   "execution_count": 0,
   "metadata": {
    "application/vnd.databricks.v1+cell": {
     "cellMetadata": {},
     "inputWidgets": {},
     "nuid": "cd5dc2bb-3936-425d-85a7-ea32e30f3d62",
     "showTitle": false,
     "title": ""
    }
   },
   "outputs": [],
   "source": [
    "adata.var[gene_col] = adata.var.index.values"
   ]
  },
  {
   "cell_type": "markdown",
   "metadata": {
    "application/vnd.databricks.v1+cell": {
     "cellMetadata": {},
     "inputWidgets": {},
     "nuid": "97bd2f47-6df3-44a2-aa03-fa3c105201ed",
     "showTitle": false,
     "title": ""
    }
   },
   "source": [
    "Make a copy of the dataset"
   ]
  },
  {
   "cell_type": "code",
   "execution_count": 0,
   "metadata": {
    "application/vnd.databricks.v1+cell": {
     "cellMetadata": {},
     "inputWidgets": {},
     "nuid": "61ba19bf-e9bd-4789-b300-e5c722928ba7",
     "showTitle": false,
     "title": ""
    }
   },
   "outputs": [],
   "source": [
    "org_adata = adata.copy()"
   ]
  },
  {
   "cell_type": "markdown",
   "metadata": {
    "application/vnd.databricks.v1+cell": {
     "cellMetadata": {},
     "inputWidgets": {},
     "nuid": "86fb2da9-7890-4796-9ab6-e7f49f74e3de",
     "showTitle": false,
     "title": ""
    }
   },
   "source": [
    "Preprocess the dataset and select `N_HVG` highly variable genes for downstream analysis."
   ]
  },
  {
   "cell_type": "code",
   "execution_count": 0,
   "metadata": {
    "application/vnd.databricks.v1+cell": {
     "cellMetadata": {},
     "inputWidgets": {},
     "nuid": "dc0dcfe3-9eb0-4d2c-9666-94fc0322fb87",
     "showTitle": false,
     "title": ""
    }
   },
   "outputs": [],
   "source": [
    "# preprocess\n",
    "sc.pp.normalize_total(adata, target_sum=1e4)\n",
    "sc.pp.log1p(adata)\n",
    "# highly variable genes\n",
    "sc.pp.highly_variable_genes(adata, n_top_genes=N_HVG, flavor='seurat_v3')\n",
    "adata = adata[:, adata.var['highly_variable']]"
   ]
  },
  {
   "cell_type": "markdown",
   "metadata": {
    "application/vnd.databricks.v1+cell": {
     "cellMetadata": {},
     "inputWidgets": {},
     "nuid": "d2061b9d-1d50-497e-9993-a02fa3b4578b",
     "showTitle": false,
     "title": ""
    }
   },
   "source": [
    "## Generate the cell embeddings"
   ]
  },
  {
   "cell_type": "markdown",
   "metadata": {
    "application/vnd.databricks.v1+cell": {
     "cellMetadata": {},
     "inputWidgets": {},
     "nuid": "0b568892-390f-42f9-b3a1-9fa6b397ac5b",
     "showTitle": false,
     "title": ""
    }
   },
   "source": [
    "Now we will generate the cell embeddings for the dataset using `embed_data` function. `embed_data` calculates the cell embedding for each cell with the given scGPT model. The extracted embedding is stored in the `X_scGPT` field of `obsm` in AnnData."
   ]
  },
  {
   "cell_type": "code",
   "execution_count": 0,
   "metadata": {
    "application/vnd.databricks.v1+cell": {
     "cellMetadata": {},
     "inputWidgets": {},
     "nuid": "a5fa5cb7-df1b-4aba-81bd-75f86550a6fb",
     "showTitle": false,
     "title": ""
    }
   },
   "outputs": [],
   "source": [
    "embed_adata = scg.tasks.embed_data(\n",
    "    adata,\n",
    "    model_dir,\n",
    "    gene_col=gene_col,\n",
    "    batch_size=64,\n",
    ")"
   ]
  },
  {
   "cell_type": "markdown",
   "metadata": {
    "application/vnd.databricks.v1+cell": {
     "cellMetadata": {},
     "inputWidgets": {},
     "nuid": "22cde0f2-2c88-49de-aa58-a74a71ced6b9",
     "showTitle": false,
     "title": ""
    }
   },
   "source": [
    "## Visualize the integration performance"
   ]
  },
  {
   "cell_type": "markdown",
   "metadata": {
    "application/vnd.databricks.v1+cell": {
     "cellMetadata": {},
     "inputWidgets": {},
     "nuid": "23579e3a-ec45-4ce7-a993-1a01bc519811",
     "showTitle": false,
     "title": ""
    }
   },
   "source": [
    "UMAP of scGPT embedding colored by cell type:"
   ]
  },
  {
   "cell_type": "code",
   "execution_count": 0,
   "metadata": {
    "application/vnd.databricks.v1+cell": {
     "cellMetadata": {},
     "inputWidgets": {},
     "nuid": "d4bc6107-3da1-454a-bb49-170fb52273f2",
     "showTitle": false,
     "title": ""
    }
   },
   "outputs": [],
   "source": [
    "sc.pp.neighbors(embed_adata, use_rep=\"X_scGPT\")\n",
    "sc.tl.umap(embed_adata)\n",
    "sc.pl.umap(embed_adata, \n",
    "           color=[cell_type_key, batch_key], \n",
    "           frameon=False, \n",
    "           wspace=0.4, \n",
    "           title=[\"scGPT zero-shot: cell type\", \"scGPT zero-shot: batch label\"])"
   ]
  },
  {
   "cell_type": "markdown",
   "metadata": {
    "application/vnd.databricks.v1+cell": {
     "cellMetadata": {},
     "inputWidgets": {},
     "nuid": "0e805b7e-2a13-4e12-b90e-41617e2a042d",
     "showTitle": false,
     "title": ""
    }
   },
   "source": [
    "## Evaluate the integration performance"
   ]
  },
  {
   "cell_type": "code",
   "execution_count": 0,
   "metadata": {
    "application/vnd.databricks.v1+cell": {
     "cellMetadata": {},
     "inputWidgets": {},
     "nuid": "6679f1e5-3846-4c5f-9f09-2293cdd8e856",
     "showTitle": false,
     "title": ""
    }
   },
   "outputs": [],
   "source": [
    "scib_result_dict = scib_eval(\n",
    "    embed_adata,\n",
    "    batch_key=batch_key,\n",
    "    cell_type_key=cell_type_key,\n",
    "    embed_key=\"X_scGPT\",\n",
    ")"
   ]
  },
  {
   "cell_type": "code",
   "execution_count": 0,
   "metadata": {
    "application/vnd.databricks.v1+cell": {
     "cellMetadata": {},
     "inputWidgets": {},
     "nuid": "9d04b7ff-a348-443d-bec3-fa01b2a0fb16",
     "showTitle": false,
     "title": ""
    }
   },
   "outputs": [],
   "source": [
    "print(\"AvgBIO: {:.4f}\".format(scib_result_dict[\"avg_bio\"]))\n",
    "print(\"AvgBATCH: {:.4f}\".format(scib_result_dict[\"avg_batch\"]))"
   ]
  },
  {
   "cell_type": "markdown",
   "metadata": {
    "application/vnd.databricks.v1+cell": {
     "cellMetadata": {},
     "inputWidgets": {},
     "nuid": "071868c2-24a4-4514-b6f2-c33c2701f799",
     "showTitle": false,
     "title": ""
    }
   },
   "source": [
    "## Comparison with the original scGPT model checkpoint"
   ]
  },
  {
   "cell_type": "code",
   "execution_count": 0,
   "metadata": {
    "application/vnd.databricks.v1+cell": {
     "cellMetadata": {},
     "inputWidgets": {},
     "nuid": "29312da5-d4f1-4f72-8abf-a755239efaad",
     "showTitle": false,
     "title": ""
    }
   },
   "outputs": [],
   "source": [
    "embed_adata = scg.tasks.embed_data(\n",
    "    adata,\n",
    "    \"../../save/scGPT_human\",\n",
    "    gene_col=gene_col,\n",
    "    batch_size=64,\n",
    ")"
   ]
  },
  {
   "cell_type": "code",
   "execution_count": 0,
   "metadata": {
    "application/vnd.databricks.v1+cell": {
     "cellMetadata": {},
     "inputWidgets": {},
     "nuid": "10e74697-a99c-4fb8-a31b-3d9ea8da0762",
     "showTitle": false,
     "title": ""
    }
   },
   "outputs": [],
   "source": [
    "sc.pp.neighbors(embed_adata, use_rep=\"X_scGPT\")\n",
    "sc.tl.umap(embed_adata)\n",
    "sc.pl.umap(embed_adata, \n",
    "           color=[cell_type_key, batch_key], \n",
    "           frameon=False, \n",
    "           wspace=0.4, \n",
    "           title=[\"scGPT zero-shot: cell type\", \"scGPT zero-shot: batch label\"])"
   ]
  },
  {
   "cell_type": "code",
   "execution_count": 0,
   "metadata": {
    "application/vnd.databricks.v1+cell": {
     "cellMetadata": {},
     "inputWidgets": {},
     "nuid": "c4c86935-e231-4957-bd9c-2a811819e667",
     "showTitle": false,
     "title": ""
    }
   },
   "outputs": [],
   "source": [
    "scib_result_dict = scib_eval(\n",
    "    embed_adata,\n",
    "    batch_key=batch_key,\n",
    "    cell_type_key=cell_type_key,\n",
    "    embed_key=\"X_scGPT\",\n",
    ")\n",
    "print(\"AvgBIO: {:.4f}\".format(scib_result_dict[\"avg_bio\"]))\n",
    "print(\"AvgBATCH: {:.4f}\".format(scib_result_dict[\"avg_batch\"]))"
   ]
  },
  {
   "cell_type": "markdown",
   "metadata": {
    "application/vnd.databricks.v1+cell": {
     "cellMetadata": {},
     "inputWidgets": {},
     "nuid": "cec86dc3-dc55-4369-8f69-a809b0e0d79a",
     "showTitle": false,
     "title": ""
    }
   },
   "source": [
    "## Comparison with HVG+PCs"
   ]
  },
  {
   "cell_type": "markdown",
   "metadata": {
    "application/vnd.databricks.v1+cell": {
     "cellMetadata": {},
     "inputWidgets": {},
     "nuid": "64855282-3434-4ce9-8617-cfcc6c3e9c1c",
     "showTitle": false,
     "title": ""
    }
   },
   "source": [
    "We compute the HVG and PCs based on the dataset, this will serve as a baseline for the integration performance."
   ]
  },
  {
   "cell_type": "code",
   "execution_count": 0,
   "metadata": {
    "application/vnd.databricks.v1+cell": {
     "cellMetadata": {},
     "inputWidgets": {},
     "nuid": "defe5d0f-499c-4fa5-a532-5dfb4caea5ba",
     "showTitle": false,
     "title": ""
    }
   },
   "outputs": [],
   "source": [
    "adata = org_adata.copy()\n",
    "sc.pp.highly_variable_genes(adata, n_top_genes=N_HVG, flavor='seurat_v3')\n",
    "adata = adata[:, adata.var['highly_variable']]\n",
    "sc.pp.pca(adata, n_comps=40)\n",
    "sc.pp.neighbors(adata, use_rep=\"X_pca\")"
   ]
  },
  {
   "cell_type": "markdown",
   "metadata": {
    "application/vnd.databricks.v1+cell": {
     "cellMetadata": {},
     "inputWidgets": {},
     "nuid": "65cbdc34-83bb-424b-bb05-5abd71eb532e",
     "showTitle": false,
     "title": ""
    }
   },
   "source": [
    "UMAP of PCs colored by cell types and batch labels:"
   ]
  },
  {
   "cell_type": "code",
   "execution_count": 0,
   "metadata": {
    "application/vnd.databricks.v1+cell": {
     "cellMetadata": {},
     "inputWidgets": {},
     "nuid": "6ea422e1-d1e4-4ea0-a59b-49b5a4e2b471",
     "showTitle": false,
     "title": ""
    }
   },
   "outputs": [],
   "source": [
    "sc.pp.neighbors(adata, use_rep=\"X_pca\")\n",
    "sc.tl.umap(adata)\n",
    "sc.pl.umap(adata, \n",
    "           color=[cell_type_key, batch_key], \n",
    "           frameon=False, \n",
    "           wspace=0.4, \n",
    "           title=[\"HVG+PCs: cell type\", \"HVG+PCs: batch label\"])"
   ]
  },
  {
   "cell_type": "code",
   "execution_count": 0,
   "metadata": {
    "application/vnd.databricks.v1+cell": {
     "cellMetadata": {},
     "inputWidgets": {},
     "nuid": "67e7aafd-692a-4c72-8f0b-4e77847d09f8",
     "showTitle": false,
     "title": ""
    }
   },
   "outputs": [],
   "source": [
    "scib_result_dict = scib_eval(\n",
    "    adata,\n",
    "    batch_key=batch_key,\n",
    "    cell_type_key=cell_type_key,\n",
    "    embed_key=\"X_pca\",\n",
    ")"
   ]
  },
  {
   "cell_type": "code",
   "execution_count": 0,
   "metadata": {
    "application/vnd.databricks.v1+cell": {
     "cellMetadata": {},
     "inputWidgets": {},
     "nuid": "d4400d63-c7b0-4f90-96c2-3a74cc62b815",
     "showTitle": false,
     "title": ""
    }
   },
   "outputs": [],
   "source": [
    "print(\"AvgBIO: {:.4f}\".format(scib_result_dict[\"avg_bio\"]))\n",
    "print(\"AvgBATCH: {:.4f}\".format(scib_result_dict[\"avg_batch\"]))"
   ]
  }
 ],
 "metadata": {
  "application/vnd.databricks.v1+notebook": {
   "dashboards": [],
   "environmentMetadata": null,
   "language": "python",
   "notebookMetadata": {},
   "notebookName": "Tutorial_ZeroShot_Integration_Continual_Pretraining",
   "widgets": {}
  },
  "kernelspec": {
   "display_name": "scgpt-o4JycL9C-py3.9",
   "language": "python",
   "name": "python3"
  },
  "language_info": {
   "codemirror_mode": {
    "name": "ipython",
    "version": 3
   },
   "file_extension": ".py",
   "mimetype": "text/x-python",
   "name": "python",
   "nbconvert_exporter": "python",
   "pygments_lexer": "ipython3",
   "version": "3.7.13"
  }
 },
 "nbformat": 4,
 "nbformat_minor": 0
}
